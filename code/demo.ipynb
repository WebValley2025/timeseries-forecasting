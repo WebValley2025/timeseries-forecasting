{
 "cells": [
  {
   "cell_type": "markdown",
   "id": "309b7f65",
   "metadata": {
    "vscode": {
     "languageId": "plaintext"
    }
   },
   "source": [
    "# Time Series Forecasting"
   ]
  },
  {
   "cell_type": "markdown",
   "id": "0867aea0",
   "metadata": {},
   "source": [
    "```\n",
    "pip install darts pandas plotly\n",
    "```"
   ]
  },
  {
   "cell_type": "code",
   "execution_count": null,
   "id": "ca577590",
   "metadata": {},
   "outputs": [],
   "source": [
    "import darts\n",
    "import pandas as pd\n",
    "import plotly.graph_objects as go\n",
    "from darts.datasets import AirPassengersDataset\n",
    "from darts.metrics import mae\n",
    "from darts.models import NaiveMean, NaiveSeasonal\n",
    "from darts.utils.statistics import (\n",
    "    check_seasonality,\n",
    "    extract_trend_and_seasonality,\n",
    "    stationarity_test_adf,\n",
    ")\n",
    "from plotly.express import line\n",
    "from plotly.subplots import make_subplots"
   ]
  },
  {
   "cell_type": "code",
   "execution_count": null,
   "id": "273c871c",
   "metadata": {},
   "outputs": [],
   "source": [
    "series: darts.TimeSeries = AirPassengersDataset().load()\n",
    "dataframe: pd.DataFrame = series.to_dataframe(backend=\"pandas\", time_as_index=False)\n",
    "print(dataframe)  # noqa: T201\n"
   ]
  },
  {
   "cell_type": "code",
   "execution_count": null,
   "id": "9e6ac5e9",
   "metadata": {},
   "outputs": [],
   "source": [
    "line(\n",
    "    x=dataframe[\"Month\"],\n",
    "    y=dataframe[\"#Passengers\"],\n",
    "    width=800,\n",
    "    height=400,\n",
    "    labels={\"x\": \"Month\", \"y\": \"Passengers\"},\n",
    "    title=\"Air Passengers Over Time\",\n",
    ")"
   ]
  },
  {
   "cell_type": "code",
   "execution_count": null,
   "id": "78d35f9c",
   "metadata": {},
   "outputs": [],
   "source": [
    "check_seasonality(series)"
   ]
  },
  {
   "cell_type": "markdown",
   "id": "f7a2051a",
   "metadata": {},
   "source": [
    "Am I really going to believe whatever the computer says? Yes, yes I will."
   ]
  },
  {
   "cell_type": "markdown",
   "id": "772fe861",
   "metadata": {},
   "source": [
    "##### Decomposing a time series\n",
    "\n",
    "$y(t) = Trend + Seasonality + Noise$\n",
    "\n",
    "\n",
    "$y(t) = Trend * Seasonality * Noise$"
   ]
  },
  {
   "cell_type": "code",
   "execution_count": null,
   "id": "4646e257",
   "metadata": {},
   "outputs": [],
   "source": [
    "trend: darts.TimeSeries\n",
    "seasonality: darts.TimeSeries\n",
    "trend, seasonality = extract_trend_and_seasonality(series)\n",
    "trend_df = trend.to_dataframe(backend=\"pandas\", time_as_index=False)\n",
    "seasonality_df = seasonality.to_dataframe(backend=\"pandas\", time_as_index=False)"
   ]
  },
  {
   "cell_type": "code",
   "execution_count": null,
   "id": "9bf069f2",
   "metadata": {},
   "outputs": [],
   "source": [
    "fig = make_subplots(rows=1, cols=2)\n",
    "\n",
    "fig.add_trace(\n",
    "    go.Scatter(x=trend_df[\"Month\"], y=trend_df[\"0\"]),\n",
    "    row=1,\n",
    "    col=1,\n",
    ")\n",
    "fig.add_trace(\n",
    "    go.Scatter(x=seasonality_df[\"Month\"], y=seasonality_df[\"0\"]),\n",
    "    row=1,\n",
    "    col=2,\n",
    ")\n",
    "\n",
    "fig.update_layout(height=400, title_text=\"Trend and Seasonality\")\n",
    "fig.show()\n"
   ]
  },
  {
   "cell_type": "code",
   "execution_count": null,
   "id": "ce61c59d",
   "metadata": {},
   "outputs": [],
   "source": [
    "stationarity_test_adf(series)"
   ]
  },
  {
   "cell_type": "code",
   "execution_count": null,
   "id": "808bc79b",
   "metadata": {},
   "outputs": [],
   "source": [
    "fig = make_subplots(rows=1, cols=1)\n",
    "\n",
    "stationary_series = series / trend\n",
    "stat_df = stationary_series.to_dataframe(backend=\"pandas\", time_as_index=False)\n",
    "\n",
    "fig.add_trace(\n",
    "    go.Scatter(x=stat_df[\"Month\"], y=stat_df[\"#Passengers\"]),\n",
    "    row=1,\n",
    "    col=1,\n",
    ")\n",
    "fig.show()"
   ]
  },
  {
   "cell_type": "code",
   "execution_count": null,
   "id": "4c488b59",
   "metadata": {},
   "outputs": [],
   "source": [
    "stationarity_test_adf(stationary_series)\n"
   ]
  },
  {
   "cell_type": "markdown",
   "id": "6c0ebf01",
   "metadata": {},
   "source": [
    "### Split the data"
   ]
  },
  {
   "cell_type": "code",
   "execution_count": null,
   "id": "3ca42fac",
   "metadata": {},
   "outputs": [],
   "source": [
    "train: darts.TimeSeries\n",
    "test: darts.TimeSeries\n",
    "train, test = series.split_before(pd.Timestamp(year=1958, month=1, day=1))\n",
    "train_df = train.to_dataframe(backend=\"pandas\", time_as_index=False)\n",
    "test_df = test.to_dataframe(backend=\"pandas\", time_as_index=False)\n",
    "fig2 = make_subplots(rows=1, cols=1)\n",
    "\n",
    "fig2.add_trace(\n",
    "    go.Scatter(\n",
    "        x=train_df[\"Month\"],\n",
    "        y=train_df[\"#Passengers\"],\n",
    "        name=\"Train\",\n",
    "    ),\n",
    ")\n",
    "fig2.add_trace(\n",
    "    go.Scatter(\n",
    "        x=test_df[\"Month\"],\n",
    "        y=test_df[\"#Passengers\"],\n",
    "        name=\"Test\",\n",
    "    ),\n",
    ")\n",
    "\n",
    "fig2.update_layout(height=400, title_text=\"Trend and Seasonality\")\n",
    "fig2.show()\n"
   ]
  },
  {
   "cell_type": "markdown",
   "id": "a2152896",
   "metadata": {},
   "source": [
    "### Models\n",
    "\n",
    "Let's start with a naive approach"
   ]
  },
  {
   "cell_type": "code",
   "execution_count": null,
   "id": "62533990",
   "metadata": {},
   "outputs": [],
   "source": [
    "naive_mean_model = NaiveMean()\n",
    "naive_mean_model.fit(train)\n",
    "naive_mean_forecast = naive_mean_model.predict(36)\n",
    "\n",
    "forecast_df = naive_mean_forecast.to_dataframe(backend=\"pandas\", time_as_index=False)\n",
    "fig3 = make_subplots(rows=1, cols=1)\n",
    "\n",
    "fig3.add_trace(\n",
    "    go.Scatter(\n",
    "        x=train_df[\"Month\"],\n",
    "        y=train_df[\"#Passengers\"],\n",
    "        name=\"Train\",\n",
    "    ),\n",
    ")\n",
    "fig3.add_trace(\n",
    "    go.Scatter(\n",
    "        x=test_df[\"Month\"],\n",
    "        y=test_df[\"#Passengers\"],\n",
    "        name=\"Test\",\n",
    "    ),\n",
    ")\n",
    "fig3.add_trace(\n",
    "    go.Scatter(\n",
    "        x=forecast_df[\"Month\"],\n",
    "        y=forecast_df[\"#Passengers\"],\n",
    "        name=\"Forecast\",\n",
    "    ),\n",
    ")\n",
    "\n",
    "fig3.update_layout(height=400, title_text=\"Trend and Seasonality\")\n",
    "fig3.show()\n"
   ]
  },
  {
   "cell_type": "code",
   "execution_count": null,
   "id": "17bf764c",
   "metadata": {},
   "outputs": [],
   "source": [
    "naive_seasonal_model = NaiveSeasonal(K=12)\n",
    "naive_seasonal_model.fit(train)\n",
    "naive_seasonal_forecast = naive_seasonal_model.predict(36)\n",
    "\n",
    "forecast_df = naive_seasonal_forecast.to_dataframe(\n",
    "    backend=\"pandas\",\n",
    "    time_as_index=False,\n",
    ")\n",
    "fig4 = make_subplots(rows=1, cols=1)\n",
    "\n",
    "fig4.add_trace(\n",
    "    go.Scatter(\n",
    "        x=train_df[\"Month\"],\n",
    "        y=train_df[\"#Passengers\"],\n",
    "        name=\"Train\",\n",
    "    ),\n",
    ")\n",
    "fig4.add_trace(\n",
    "    go.Scatter(\n",
    "        x=test_df[\"Month\"],\n",
    "        y=test_df[\"#Passengers\"],\n",
    "        name=\"Test\",\n",
    "    ),\n",
    ")\n",
    "fig4.add_trace(\n",
    "    go.Scatter(\n",
    "        x=forecast_df[\"Month\"],\n",
    "        y=forecast_df[\"#Passengers\"],\n",
    "        name=\"Forecast\",\n",
    "    ),\n",
    ")\n",
    "\n",
    "fig4.update_layout(height=400, title_text=\"Trend and Seasonality\")\n",
    "fig4.show()\n"
   ]
  },
  {
   "cell_type": "code",
   "execution_count": null,
   "id": "77683cfc",
   "metadata": {},
   "outputs": [],
   "source": [
    "from darts.models import RegressionEnsembleModel\n",
    "\n",
    "ensemble_model = RegressionEnsembleModel(\n",
    "    forecasting_models=[\n",
    "        naive_mean_model.untrained_model(),\n",
    "        naive_seasonal_model.untrained_model(),\n",
    "    ],\n",
    "    regression_train_n_points=36,\n",
    ")\n",
    "ensemble_model.fit(train)\n",
    "predictions = ensemble_model.predict(36)\n",
    "\n",
    "forecast_df = predictions.to_dataframe(\n",
    "    backend=\"pandas\",\n",
    "    time_as_index=False,\n",
    ")\n",
    "fig5 = make_subplots(rows=1, cols=1)\n",
    "\n",
    "fig5.add_trace(\n",
    "    go.Scatter(\n",
    "        x=train_df[\"Month\"],\n",
    "        y=train_df[\"#Passengers\"],\n",
    "        name=\"Train\",\n",
    "    ),\n",
    ")\n",
    "fig5.add_trace(\n",
    "    go.Scatter(\n",
    "        x=test_df[\"Month\"],\n",
    "        y=test_df[\"#Passengers\"],\n",
    "        name=\"Test\",\n",
    "    ),\n",
    ")\n",
    "fig5.add_trace(\n",
    "    go.Scatter(\n",
    "        x=forecast_df[\"Month\"],\n",
    "        y=forecast_df[\"#Passengers\"],\n",
    "        name=\"Forecast\",\n",
    "    ),\n",
    ")\n",
    "\n",
    "fig5.update_layout(height=400, title_text=\"Trend and Seasonality\")\n",
    "fig5.show()\n"
   ]
  },
  {
   "cell_type": "markdown",
   "id": "8654f0e1",
   "metadata": {},
   "source": [
    "##### Probabilistic models"
   ]
  },
  {
   "cell_type": "code",
   "execution_count": null,
   "id": "123283a3",
   "metadata": {},
   "outputs": [],
   "source": [
    "from darts.models import ExponentialSmoothing\n",
    "\n",
    "es_model = ExponentialSmoothing()\n",
    "es_model.fit(train)\n",
    "predictions = es_model.predict(36, num_samples=100)\n",
    "\n",
    "forecast_df = predictions.quantiles_df(quantiles=(0.1, 0.5, 0.9))\n",
    "forecast_df = forecast_df.reset_index()\n",
    "\n",
    "fig6 = make_subplots(rows=1, cols=1)\n",
    "\n",
    "fig6.add_trace(\n",
    "    go.Scatter(\n",
    "        x=train_df[\"Month\"],\n",
    "        y=train_df[\"#Passengers\"],\n",
    "        name=\"Train\",\n",
    "    ),\n",
    ")\n",
    "fig6.add_trace(\n",
    "    go.Scatter(\n",
    "        x=test_df[\"Month\"],\n",
    "        y=test_df[\"#Passengers\"],\n",
    "        name=\"Test\",\n",
    "    ),\n",
    ")\n",
    "fig6.add_trace(\n",
    "    go.Scatter(\n",
    "        x=forecast_df[\"Month\"],\n",
    "        y=forecast_df[\"#Passengers_0.5\"],\n",
    "        name=\"Forecast Mean\",\n",
    "    ),\n",
    ")\n",
    "fig6.add_trace(\n",
    "    go.Scatter(\n",
    "        x=forecast_df[\"Month\"],\n",
    "        y=forecast_df[\"#Passengers_0.1\"],\n",
    "        name=\"Forecast 0.1\",\n",
    "        line_color=\"rgba(0,0,0,0)\",\n",
    "        showlegend=False,\n",
    "    ),\n",
    ")\n",
    "fig6.add_trace(\n",
    "    go.Scatter(\n",
    "        x=forecast_df[\"Month\"],\n",
    "        y=forecast_df[\"#Passengers_0.9\"],\n",
    "        fill=\"tonexty\",\n",
    "        name=\"Forecast 0.9\",\n",
    "        fillcolor=\"rgba(231,107,243,0.3)\",\n",
    "        line_color=\"rgba(0,0,0,0)\",\n",
    "        showlegend=False,\n",
    "    ),\n",
    ")\n",
    "\n",
    "fig6.update_layout(height=400, title_text=\"Trend and Seasonality\")\n",
    "fig6.show()\n"
   ]
  },
  {
   "cell_type": "markdown",
   "id": "f151c1f1",
   "metadata": {},
   "source": [
    "Okay but how wrong is it?"
   ]
  },
  {
   "cell_type": "code",
   "execution_count": null,
   "id": "909e755a",
   "metadata": {},
   "outputs": [],
   "source": [
    "naive_mean_mae = mae(series, naive_mean_forecast)\n",
    "naive_seasonal_mae = mae(series, naive_seasonal_forecast)\n",
    "print(f\"MAE for the naive mean: {naive_mean_mae}\")  # noqa: T201\n",
    "print(f\"MAE for the naive seasonal: {naive_seasonal_mae}\")  # noqa: T201\n"
   ]
  },
  {
   "cell_type": "markdown",
   "id": "b2f95d0d",
   "metadata": {},
   "source": [
    "### Trying other models"
   ]
  },
  {
   "cell_type": "code",
   "execution_count": null,
   "id": "ebf29115",
   "metadata": {},
   "outputs": [],
   "source": [
    "from darts.models import AutoARIMA, ExponentialSmoothing, Theta\n",
    "from darts.models.forecasting.forecasting_model import ForecastingModel\n",
    "\n",
    "\n",
    "def eval_model(\n",
    "    model: ForecastingModel,\n",
    "    training_data: darts.TimeSeries,\n",
    "    test_data: darts.TimeSeries,\n",
    ") -> None:\n",
    "    \"\"\"Evaluate a darts model on the training data and print the MAE.\n",
    "\n",
    "    Args:\n",
    "    ----\n",
    "    model: An untrained darts model.\n",
    "    training_data: A list of training data.\n",
    "    test_data: A list of test data.\n",
    "\n",
    "    \"\"\"\n",
    "    model.fit(training_data)\n",
    "    forecast = model.predict(len(test_data))\n",
    "    print(f\"Model {model} obtains MAE: {mae(test_data, forecast):.2f}\")  # noqa: T201\n",
    "\n",
    "\n",
    "eval_model(ExponentialSmoothing(), train, test)\n",
    "eval_model(AutoARIMA(), train, test)\n",
    "eval_model(Theta(), train, test)\n"
   ]
  }
 ],
 "metadata": {
  "kernelspec": {
   "display_name": ".venv",
   "language": "python",
   "name": "python3"
  },
  "language_info": {
   "codemirror_mode": {
    "name": "ipython",
    "version": 3
   },
   "file_extension": ".py",
   "mimetype": "text/x-python",
   "name": "python",
   "nbconvert_exporter": "python",
   "pygments_lexer": "ipython3",
   "version": "3.12.8"
  }
 },
 "nbformat": 4,
 "nbformat_minor": 5
}
